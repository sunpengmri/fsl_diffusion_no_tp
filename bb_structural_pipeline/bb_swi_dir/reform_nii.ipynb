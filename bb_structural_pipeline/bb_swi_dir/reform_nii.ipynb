{
 "cells": [
  {
   "cell_type": "code",
   "execution_count": 1,
   "metadata": {},
   "outputs": [],
   "source": [
    "import os\n",
    "import numpy as np\n",
    "import bb_pipeline_tools.bb_logging_tool as LT\n",
    "import time\n",
    "import SimpleITK as sitk"
   ]
  },
  {
   "cell_type": "code",
   "execution_count": 2,
   "metadata": {},
   "outputs": [],
   "source": [
    "def replace_nii(target_nii, source_nii):\n",
    "    # readin\n",
    "    itk_img_trg = sitk.ReadImage(target_nii)\n",
    "    itk_img_src = sitk.ReadImage(source_nii) \n",
    "\n",
    "    # rotation and   \n",
    "    img_src = sitk.GetArrayFromImage(itk_img_src) \n",
    "    img_src = np.rot90(img_src,k=2, axes = (0, 1))\n",
    "    img_src = descend_sort(img_src)\n",
    "    ## save \n",
    "    out = sitk.GetImageFromArray(img_src)\n",
    "    out.SetSpacing(itk_img_trg.GetSpacing())\n",
    "    out.SetOrigin(itk_img_trg.GetOrigin())\n",
    "    out.SetDirection(itk_img_trg.GetDirection())\n",
    "    sitk.WriteImage(out,'QSM_new.nii.gz')\n",
    "\n",
    "\n",
    "def descend_sort(array):\n",
    "    '''对三维数组倒序排列'''\n",
    "    [height, width, channel] = array.shape\n",
    "    sortArray = np.zeros([height, width, channel])\n",
    "    for h in range(height):\n",
    "        for w in range(width):\n",
    "            sortArray[h, w, :] = sorted(array[h, w, :], reverse=True)\n",
    "    return sortArray\n"
   ]
  },
  {
   "cell_type": "code",
   "execution_count": 9,
   "metadata": {},
   "outputs": [],
   "source": [
    "struc_nii=\"/mnt/hgfs/E/00_github/00_MR_Analysis/01_FSL/11_ukbiobank/UK_biobank_pipeline_v_1/demo002/SWI/GRE_echo_1.nii.gz\"\n",
    "param_nii=\"/mnt/hgfs/E/00_github/00_MR_Analysis/01_FSL/11_ukbiobank/UK_biobank_pipeline_v_1/demo002/SWI/QSM.nii.gz\""
   ]
  },
  {
   "cell_type": "code",
   "execution_count": 17,
   "metadata": {},
   "outputs": [],
   "source": [
    "itk_img_trg = sitk.ReadImage(struc_nii)\n",
    "itk_img_src = sitk.ReadImage(param_nii)\n",
    "\n",
    "img_src = sitk.GetArrayFromImage(itk_img_trg) \n"
   ]
  },
  {
   "cell_type": "code",
   "execution_count": 8,
   "metadata": {},
   "outputs": [
    {
     "name": "stdout",
     "output_type": "stream",
     "text": [
      "/mnt/hgfs/E/00_github/00_MR_Analysis\n"
     ]
    }
   ],
   "source": [
    "!pwd"
   ]
  }
 ],
 "metadata": {
  "kernelspec": {
   "display_name": "Python 3.8.13 ('base')",
   "language": "python",
   "name": "python3"
  },
  "language_info": {
   "codemirror_mode": {
    "name": "ipython",
    "version": 3
   },
   "file_extension": ".py",
   "mimetype": "text/x-python",
   "name": "python",
   "nbconvert_exporter": "python",
   "pygments_lexer": "ipython3",
   "version": "3.8.13"
  },
  "orig_nbformat": 4,
  "vscode": {
   "interpreter": {
    "hash": "b7cdf7cdac85649af8e8860133517e6216a89e48ec8313fd3a8b2d3173456b17"
   }
  }
 },
 "nbformat": 4,
 "nbformat_minor": 2
}
