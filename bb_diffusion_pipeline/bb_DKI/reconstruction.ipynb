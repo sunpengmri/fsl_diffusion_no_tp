{
 "cells": [
  {
   "cell_type": "code",
   "execution_count": null,
   "metadata": {},
   "outputs": [],
   "source": [
    "# FOR DKI,NODDI, AND MAP DIFFUSION FITTING\n",
    "import os\n",
    "import numpy as np\n",
    "import matplotlib.pyplot as plt\n",
    "import dipy.reconst.dki as dki\n",
    "import dipy.reconst.dti as dti\n",
    "from dipy.reconst import mapmri\n",
    "from dipy.core.gradients import gradient_table\n",
    "from dipy.data import get_fnames, get_sphere\n",
    "from dipy.io.gradients import read_bvals_bvecs\n",
    "from dipy.io.image import load_nifti,save_nifti\n",
    "from dipy.segment.mask import median_otsu\n",
    "from scipy.ndimage.filters import gaussian_filter\n",
    "from dipy.viz import window, actor\n",
    "from mpl_toolkits.axes_grid1 import make_axes_locatable\n",
    "from dmipy.signal_models import cylinder_models, gaussian_models\n",
    "from dmipy.distributions.distribute_models import SD1WatsonDistributed\n",
    "from dmipy.core.acquisition_scheme import acquisition_scheme_from_bvalues\n",
    "from dmipy.core.modeling_framework import MultiCompartmentModel"
   ]
  },
  {
   "cell_type": "code",
   "execution_count": null,
   "metadata": {},
   "outputs": [],
   "source": [
    "workingdir=\"/media/peng/data/02_MriDataSet/99_demo/15_ukbiobank/wang/con001/dMRI/dMRI\"\n",
    "fraw=\"/media/peng/data/02_MriDataSet/99_demo/15_ukbiobank/wang/con001/dMRI/dMRI/data.nii.gz\"\n",
    "fbval=\"/media/peng/data/02_MriDataSet/99_demo/15_ukbiobank/wang/con001/dMRI/dMRI/bvals\"\n",
    "fbvec=\"/media/peng/data/02_MriDataSet/99_demo/15_ukbiobank/wang/con001/dMRI/dMRI/bvecs\"\n",
    "fmask=\"/media/peng/data/02_MriDataSet/99_demo/15_ukbiobank/wang/con001/dMRI/dMRI/nodif_brain_mask.nii.gz\"\n",
    "data, affine = load_nifti(fraw)\n",
    "bvals, bvecs = read_bvals_bvecs(fbval, fbvec)\n",
    "gtab_dki = gradient_table(bvals, bvecs)\n",
    "mask,mask_affine=load_nifti(fmask)"
   ]
  },
  {
   "cell_type": "code",
   "execution_count": null,
   "metadata": {},
   "outputs": [],
   "source": [
    "dkimodel = dki.DiffusionKurtosisModel(gtab_dki)"
   ]
  },
  {
   "cell_type": "code",
   "execution_count": null,
   "metadata": {},
   "outputs": [],
   "source": [
    "dkifit = dkimodel.fit(data, mask=mask)"
   ]
  },
  {
   "cell_type": "code",
   "execution_count": null,
   "metadata": {},
   "outputs": [],
   "source": [
    "DKI_FA = dkifit.fa\n",
    "DKI_MD = dkifit.md\n",
    "DKI_AD = dkifit.ad\n",
    "DKI_RD = dkifit.rd\n",
    "DKI_MK = dkifit.mk(0, 3)\n",
    "DKI_AK = dkifit.ak(0, 3)\n",
    "DKI_RK = dkifit.rk(0, 3)\n",
    "DKI_MKT = dkifit.mkt(0, 3)\n",
    "DKI_KFA = dkifit.kfa"
   ]
  },
  {
   "cell_type": "markdown",
   "metadata": {},
   "source": [
    "# MAP"
   ]
  },
  {
   "cell_type": "code",
   "execution_count": null,
   "metadata": {},
   "outputs": [],
   "source": [
    "big_delta = 0.0365  # seconds\n",
    "small_delta = 0.0157  # seconds\n",
    "gtab_map = gradient_table(bvals=gtab_dki.bvals, bvecs=gtab_dki.bvecs,\n",
    "                      big_delta=big_delta,\n",
    "                      small_delta=small_delta)"
   ]
  },
  {
   "cell_type": "code",
   "execution_count": null,
   "metadata": {},
   "outputs": [],
   "source": [
    "radial_order = 6\n",
    "map_model_both_aniso = mapmri.MapmriModel(gtab_map, radial_order=radial_order,\n",
    "                                          laplacian_regularization=True,\n",
    "                                          laplacian_weighting=.2,\n",
    "                                          positivity_constraint=False)"
   ]
  },
  {
   "cell_type": "code",
   "execution_count": null,
   "metadata": {},
   "outputs": [],
   "source": [
    "\n",
    "mapfit_both_aniso = map_model_both_aniso.fit(data,mask)"
   ]
  },
  {
   "cell_type": "code",
   "execution_count": null,
   "metadata": {},
   "outputs": [],
   "source": [
    "RTOP=mapfit_both_aniso.rtop()\n",
    "RTAP=mapfit_both_aniso.rtap()\n",
    "RTPP=mapfit_both_aniso.rtpp()\n",
    "NORM=mapfit_both_aniso.norm_of_laplacian_signal()\n",
    "MSD=mapfit_both_aniso.msd()\n",
    "QIV=mapfit_both_aniso.qiv()"
   ]
  },
  {
   "cell_type": "code",
   "execution_count": null,
   "metadata": {},
   "outputs": [],
   "source": [
    "map_model_both_ng = mapmri.MapmriModel(gtab_map, radial_order=radial_order,\n",
    "                                        laplacian_regularization=True,\n",
    "                                        laplacian_weighting=.2,\n",
    "                                        positivity_constraint=False,\n",
    "                                        bval_threshold=2000)           "
   ]
  },
  {
   "cell_type": "code",
   "execution_count": null,
   "metadata": {},
   "outputs": [],
   "source": [
    "mapfit_both_ng = map_model_both_ng.fit(data,mask)"
   ]
  },
  {
   "cell_type": "code",
   "execution_count": null,
   "metadata": {},
   "outputs": [],
   "source": [
    "NG=mapfit_both_ng.ng()\n",
    "NG_PER=mapfit_both_ng.ng_perpendicular()\n",
    "NG_PAR=mapfit_both_ng.ng_parallel()"
   ]
  },
  {
   "cell_type": "markdown",
   "metadata": {},
   "source": [
    "# NODDI"
   ]
  },
  {
   "cell_type": "code",
   "execution_count": null,
   "metadata": {},
   "outputs": [],
   "source": [
    "ball = gaussian_models.G1Ball()\n",
    "stick = cylinder_models.C1Stick()\n",
    "zeppelin = gaussian_models.G2Zeppelin()\n",
    "watson_dispersed_bundle = SD1WatsonDistributed(models=[stick, zeppelin])\n",
    "# watson_dispersed_bundle.parameter_names\n",
    "watson_dispersed_bundle.set_tortuous_parameter('G2Zeppelin_1_lambda_perp','C1Stick_1_lambda_par','partial_volume_0')\n",
    "watson_dispersed_bundle.set_equal_parameter('G2Zeppelin_1_lambda_par', 'C1Stick_1_lambda_par')\n",
    "watson_dispersed_bundle.set_fixed_parameter('G2Zeppelin_1_lambda_par', 1.7e-9)\n",
    "NODDI_mod = MultiCompartmentModel(models=[ball, watson_dispersed_bundle])\n",
    "# NODDI_mod.parameter_names\n",
    "NODDI_mod.set_fixed_parameter('G1Ball_1_lambda_iso', 3e-9)\n",
    "acq_scheme = acquisition_scheme_from_bvalues(np.squeeze(bvals)*1e6, bvecs, small_delta, big_delta)"
   ]
  },
  {
   "cell_type": "code",
   "execution_count": null,
   "metadata": {},
   "outputs": [],
   "source": [
    "NODDI_fit_result = NODDI_mod.fit(acq_scheme, data, mask=mask)\n",
    "fitted_parameters = NODDI_fit_result.fitted_parameters"
   ]
  },
  {
   "cell_type": "code",
   "execution_count": 20,
   "metadata": {},
   "outputs": [],
   "source": [
    "ISOVF=fitted_parameters['partial_volume_0']\n",
    "ICVF=fitted_parameters['SD1WatsonDistributed_1_partial_volume_0']\n",
    "OD=fitted_parameters['SD1WatsonDistributed_1_SD1Watson_1_odi']"
   ]
  },
  {
   "cell_type": "code",
   "execution_count": 18,
   "metadata": {},
   "outputs": [
    {
     "data": {
      "text/plain": [
       "'/media/peng/data/02_MriDataSet/99_demo/15_ukbiobank/wang/con001/dMRI/dMRI'"
      ]
     },
     "execution_count": 18,
     "metadata": {},
     "output_type": "execute_result"
    }
   ],
   "source": [
    "os.chdir(workingdir)\n",
    "#os.getcwd()"
   ]
  },
  {
   "cell_type": "code",
   "execution_count": 21,
   "metadata": {},
   "outputs": [],
   "source": [
    "#NODDI\n",
    "save_nifti(\"dti_OD.nii.gz\", OD,affine=affine)\n",
    "save_nifti(\"dti_ICVF.nii.gz\", ICVF,affine=affine)\n",
    "save_nifti(\"dti_ISOVF.nii.gz\", ISOVF,affine=affine)\n",
    "# MAP\n",
    "save_nifti(\"dti_RTOP.nii.gz\", RTOP,affine=affine)\n",
    "save_nifti(\"dti_RTAP.nii.gz\", RTAP,affine=affine)\n",
    "save_nifti(\"dti_RTPP.nii.gz\", RTPP,affine=affine)\n",
    "save_nifti(\"dti_NORM.nii.gz\", NORM,affine=affine)\n",
    "save_nifti(\"dti_MSD.nii.gz\", MSD,affine=affine)\n",
    "save_nifti(\"dti_QIV.nii.gz\", QIV,affine=affine)\n",
    "save_nifti(\"dti_NG.nii.gz\", NG,affine=affine)\n",
    "save_nifti(\"dti_NG_PER.nii.gz\", NG_PER,affine=affine)\n",
    "save_nifti(\"dti_NG_PAR.nii.gz\", NG_PAR,affine=affine)\n",
    "# dki\n",
    "save_nifti(\"dti_DKI_FA.nii.gz\", DKI_FA,affine=affine)\n",
    "save_nifti(\"dti_DKI_MD.nii.gz\", DKI_MD,affine=affine)\n",
    "save_nifti(\"dti_DKI_AD.nii.gz\", DKI_AD,affine=affine)\n",
    "save_nifti(\"dti_DKI_RD.nii.gz\", DKI_RD,affine=affine)\n",
    "save_nifti(\"dti_DKI_MK.nii.gz\", DKI_MK,affine=affine)\n",
    "save_nifti(\"dti_DKI_AK.nii.gz\", DKI_AK,affine=affine)\n",
    "save_nifti(\"dti_DKI_RK.nii.gz\", DKI_RK,affine=affine)\n",
    "save_nifti(\"dti_DKI_MKT.nii.gz\", DKI_MKT,affine=affine)\n",
    "save_nifti(\"dti_DKI_KFA.nii.gz\", DKI_KFA,affine=affine)"
   ]
  }
 ],
 "metadata": {
  "kernelspec": {
   "display_name": "Python 3.8.13 ('mri')",
   "language": "python",
   "name": "python3"
  },
  "language_info": {
   "codemirror_mode": {
    "name": "ipython",
    "version": 3
   },
   "file_extension": ".py",
   "mimetype": "text/x-python",
   "name": "python",
   "nbconvert_exporter": "python",
   "pygments_lexer": "ipython3",
   "version": "3.8.13"
  },
  "orig_nbformat": 4,
  "vscode": {
   "interpreter": {
    "hash": "e3a56c6b7f0512caba7262d5a7227a357190156fb47f57d0a716ac5a30e195d6"
   }
  }
 },
 "nbformat": 4,
 "nbformat_minor": 2
}
